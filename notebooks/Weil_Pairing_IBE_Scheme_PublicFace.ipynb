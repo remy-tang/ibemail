{
 "cells": [
  {
   "cell_type": "code",
   "execution_count": 2,
   "metadata": {},
   "outputs": [],
   "source": [
    "from sage.schemes.elliptic_curves.constructor import EllipticCurve\n",
    "from sage.arith.misc import random_prime, is_prime\n",
    "from sage.rings.integer_ring import ZZ #ZZ\n",
    "\n",
    "# from sage.rings.finite_rings.finite_field_constructor import GF #GF\n",
    "from sage.rings.finite_rings.finite_field_constructor import GF\n",
    "from sage.rings.infinity import PlusInfinity\n",
    "from sage.rings.finite_rings.finite_field_prime_modn import FiniteField_prime_modn\n",
    "from sage.rings.finite_rings.finite_field_pari_ffelt import FiniteFieldElement_pari_ffelt\n",
    "from sage.rings.polynomial.polynomial_ring_constructor import PolynomialRing"
   ]
  },
  {
   "cell_type": "code",
   "execution_count": 3,
   "metadata": {},
   "outputs": [],
   "source": [
    "from sage.schemes.elliptic_curves.ell_finite_field import EllipticCurve_finite_field\n",
    "from sage.schemes.elliptic_curves.ell_point import EllipticCurvePoint_finite_field\n"
   ]
  },
  {
   "cell_type": "code",
   "execution_count": 4,
   "metadata": {},
   "outputs": [],
   "source": [
    "from sage.rings import integer"
   ]
  },
  {
   "cell_type": "code",
   "execution_count": 5,
   "metadata": {},
   "outputs": [],
   "source": [
    "# from sage.rings.infinity import PlusInfinity\n",
    "# type(+oo)\n",
    "# +oo"
   ]
  },
  {
   "cell_type": "code",
   "execution_count": 6,
   "metadata": {
    "collapsed": false
   },
   "outputs": [],
   "source": [
    "##############################################################\n",
    "#Implementation of the Boneh-Franklin Identity Based Encryption using the Weil Pairing\n",
    "#Florence Lam\n",
    "#Accompanies a paper with the same title\n",
    "#References to Theorems/Definitions/Algorithms/Sections are to that paper\n",
    "##############################################################\n",
    "\n",
    "\n",
    "#BasicIdent requires two hash functions (cf. Section 2.4)\n",
    "#We use this library\n",
    "from Crypto.Hash import SHA512\n",
    "\n",
    "#Okay for Hash(ID)\n",
    "def H1(hash_input) -> int:\n",
    "    hash = SHA512.new()\n",
    "    str_val = str(hash_input)\n",
    "    byte_val = str_val.encode()\n",
    "    hash.update(byte_val)\n",
    "    hexadecimal = hash.hexdigest()\n",
    "    return int(hexadecimal, 16)"
   ]
  },
  {
   "cell_type": "code",
   "execution_count": 7,
   "metadata": {
    "collapsed": false
   },
   "outputs": [],
   "source": [
    "#Fast modular exponentiation algorithm (needed for F_{p^2})\n",
    "def fastPowerSmall(g,A):\n",
    "    if g == 0 and A == 0:\n",
    "        return \"Undefined\"\n",
    "    else:\n",
    "        a = g\n",
    "        b = 1\n",
    "        while A > 0:\n",
    "            if A%2 == 1:\n",
    "                b = b*a\n",
    "            a = a^2\n",
    "            A = A//2\n",
    "            print\n",
    "        return b"
   ]
  },
  {
   "cell_type": "code",
   "execution_count": 8,
   "metadata": {
    "collapsed": false
   },
   "outputs": [],
   "source": [
    "#ASCII implementation\n",
    "def textToInt(w):\n",
    "    n  = 0\n",
    "    counter = 0\n",
    "    #counter will give us the index of each character in the string\n",
    "    for i in w:\n",
    "        n = n + ord(i)*(256**counter)\n",
    "        counter = counter + 1\n",
    "    return n\n",
    "\n",
    "def intToText(n):\n",
    "    str = \"\"\n",
    "    while n > 0:\n",
    "        a0 = n%256\n",
    "        str = str + chr(a0) #chr undoes ord. ord() inputs character and outputs integer. str inputs integer between 0 and 255 and outputs character.\n",
    "        n = n//256 #This is the quotient after dividing n by 256\n",
    "    return str"
   ]
  },
  {
   "cell_type": "code",
   "execution_count": 9,
   "metadata": {
    "collapsed": false
   },
   "outputs": [],
   "source": [
    "# First step of Miller's Algorithm\n",
    "# This defines a rational function g(x,y) on E whose divisor is div(g) = [P] + [Q] - [P+Q] - [O]\n",
    "# (cf. Theorem 2.2)\n",
    "\n",
    "# A, B coefficients of E. Use A,B = E.a_invariants()[3], E.a_invariants()[4]\n",
    "# P = E([xP, yP])\n",
    "\n",
    "\n",
    "def g(\n",
    "    P: EllipticCurvePoint_finite_field,\n",
    "    Q: EllipticCurvePoint_finite_field,\n",
    "    x: integer.Integer,\n",
    "    y: integer.Integer,\n",
    "    E: EllipticCurve_finite_field,\n",
    ") -> FiniteFieldElement_pari_ffelt:\n",
    "    A, B = E.a_invariants()[3], E.a_invariants()[4]\n",
    "    if P == E(0) or Q == E(0):\n",
    "        return \"no divisor\"\n",
    "    xP, yP = P[0], P[1]\n",
    "    xQ, yQ = Q[0], Q[1]\n",
    "    # Calculate slope of line connecting P and Q\n",
    "    # JUST check if equal\n",
    "    if yP == -yQ and xP == xQ: \n",
    "        slope = PlusInfinity()  # symbol for Infinity\n",
    "    elif P == Q:\n",
    "        slope = (3 * (xP**2) + A) / (2 * yP)\n",
    "    else:\n",
    "        slope = (yQ - yP) / (xQ - xP)\n",
    "    # return the function on E\n",
    "    if slope == PlusInfinity():\n",
    "        return x - xP\n",
    "    else:\n",
    "        return (y - yP - slope * (x - xP)) / (x + xP + xQ - slope**2)"
   ]
  },
  {
   "cell_type": "code",
   "execution_count": 10,
   "metadata": {
    "collapsed": false
   },
   "outputs": [],
   "source": [
    "# Implementation of Miller's algorithm (Theorem 2.2)\n",
    "\n",
    "\n",
    "def MillerAlgorithm(\n",
    "    P: EllipticCurvePoint_finite_field,\n",
    "    m: integer.Integer,\n",
    "    x: integer.Integer,\n",
    "    y: integer.Integer,\n",
    "    E: EllipticCurve_finite_field,\n",
    "):\n",
    "    A, B = E.a_invariants()[3], E.a_invariants()[4]\n",
    "    xP, yP = P[0], P[1]\n",
    "    binary = m.digits(2)  # gives number in binary\n",
    "    n = len(binary)  # trying to find what \"n\" is.\n",
    "    T = P\n",
    "    f = 1\n",
    "    for i in range(\n",
    "        n - 2, -1, -1\n",
    "    ):  # Stop once i = -1, so last number is 0...range(start, stop, step)\n",
    "        f = (f**2) * g(T, T, x, y, E)\n",
    "        T *= 2  # T = 2T\n",
    "        if binary[i] == 1:\n",
    "            f = f * g(T, P, x, y, E)\n",
    "            T += P\n",
    "    print(f\"f:{type(f)}\")\n",
    "    return f  # This algorithm returns a value..."
   ]
  },
  {
   "cell_type": "code",
   "execution_count": 11,
   "metadata": {
    "collapsed": false
   },
   "outputs": [],
   "source": [
    "# Weil Pairing Implementation (cf. Theorem 2.3)\n",
    "# Works on general elliptic curve over finite field\n",
    "\n",
    "\n",
    "def WeilPairing(\n",
    "    P: EllipticCurvePoint_finite_field,\n",
    "    Q: EllipticCurvePoint_finite_field,\n",
    "    m:integer.Integer,\n",
    "    E: EllipticCurve_finite_field,\n",
    "):\n",
    "    A, B = E.a_invariants()[3], E.a_invariants()[4]\n",
    "    S = E.random_element()\n",
    "    while m * S == E(0):\n",
    "        S = (\n",
    "            E.random_element()\n",
    "        )  # Pick point S that is not m-torsion. This guarantees that S isn't a linear combination of P and Q.\n",
    "    xS, yS = S[0], S[1]\n",
    "    QplusS = Q + S\n",
    "    f_P_QplusS = MillerAlgorithm(P, m, QplusS[0], QplusS[1], E)\n",
    "    f_P_S = MillerAlgorithm(P, m, xS, yS, E)\n",
    "    num = f_P_QplusS / f_P_S\n",
    "\n",
    "    PminusS = P - S\n",
    "    f_Q_PminusS = MillerAlgorithm(Q, m, PminusS[0], PminusS[1], E)  # This is f_Q(P-S)\n",
    "    f_Q_minusS = MillerAlgorithm(Q, m, xS, -yS, E)  # This is f_Q(-S)\n",
    "    denom = f_Q_PminusS / f_Q_minusS\n",
    "\n",
    "    e_m = num / denom\n",
    "    return e_m"
   ]
  },
  {
   "cell_type": "code",
   "execution_count": 12,
   "metadata": {
    "collapsed": false
   },
   "outputs": [],
   "source": [
    "#Implementation of Modified Weil Pairing (cf. Definition 2.8)\n",
    "#Works on the elliptic curve E given by y^2 = x^3 + 1 over F_p with p a prime congruent to 2 modulo 3\n",
    "\n",
    "def ModifiedWeilPairing(\n",
    "    P:EllipticCurvePoint_finite_field,\n",
    "    Q:EllipticCurvePoint_finite_field,\n",
    "    m:integer.Integer,\n",
    "    E:EllipticCurve_finite_field\n",
    "    ):\n",
    "    # Fp = GF(p)\n",
    "    # R.<x> = Fp[]\n",
    "    # Fp2.<z> = Fp.extension(x^2+x+1)      #Form F_{p^2} by adjoining z = {a nontrivial cube root of 1}\n",
    "    # \n",
    "    Fp:FiniteField_prime_modn = GF(p)\n",
    "    # Define the polynomial ring over Fp\n",
    "    R = PolynomialRing(Fp, 'x')\n",
    "    x = R.gen()\n",
    "    # Define the extension field Fp2\n",
    "    Fp2 = Fp.extension(x**2 + x + 1, 'z')\n",
    "    z = Fp2.gen()\n",
    "\n",
    "    E_zeta: EllipticCurve_finite_field = EllipticCurve(Fp2, [0,1])   #Define E: y^2 = x^3 + 1 over this field\n",
    "    phiQ = E_zeta([z*Q[0],Q[1]])\n",
    "    A,B = E_zeta.a_invariants()[3], E_zeta.a_invariants()[4]\n",
    "    P_zeta = E_zeta([P[0],P[1]])\n",
    "    S = E_zeta.random_element()\n",
    "    while m*S == E(0):\n",
    "        S = E_zeta.random_element()\n",
    "    xS,yS = S[0],S[1]\n",
    "    QplusS = phiQ + S\n",
    "    f_P_QplusS = MillerAlgorithm(P,m,QplusS[0],QplusS[1],E_zeta)\n",
    "    f_P_S = MillerAlgorithm(P,m,xS,yS,E_zeta)\n",
    "    num = f_P_QplusS/f_P_S\n",
    "\n",
    "    PminusS = P_zeta - S #modify\n",
    "    f_Q_PminusS = MillerAlgorithm(phiQ,m,PminusS[0],PminusS[1],E_zeta) #This is f_Q(P-S)\n",
    "    f_Q_minusS = MillerAlgorithm(phiQ,m,xS,-yS,E_zeta) #This is f_Q(-S)\n",
    "    denom = f_Q_PminusS/f_Q_minusS\n",
    "\n",
    "    e_m = num/denom\n",
    "    print(type(e_m))\n",
    "    return e_m"
   ]
  },
  {
   "cell_type": "code",
   "execution_count": 13,
   "metadata": {
    "collapsed": false
   },
   "outputs": [],
   "source": [
    "# Implementation of BDHGenerator\n",
    "# THis is `Setup` algorithm in IBE scheme ###2\n",
    "# (cf. Algorithm 2 in Section 3.1)\n",
    "\n",
    "\n",
    "def BDHGenerator(k):\n",
    "    print((2 ^ k) - 1)\n",
    "    q = random_prime(\n",
    "        (2 ^ k) - 1, True, lbound=2 ^ (k - 1)\n",
    "    )  # Generates a random k-bit prime. False means using pseudo-primality tests.\n",
    "    p = q\n",
    "    l = 1  # need l for `MapToPoint`\n",
    "    lq = q\n",
    "    while True:\n",
    "        l += 1\n",
    "        lq += q\n",
    "        p = lq - 1\n",
    "        if p % 3 == 2 and (p + 1) % (q ^ 2) != 0 and is_prime(p) == True:\n",
    "            break\n",
    "    E: EllipticCurve_finite_field = EllipticCurve(\n",
    "        GF(p), [0, 1]\n",
    "    )  # p is public b/c the elliptic curve is known\n",
    "    P = E(0)\n",
    "    while P == E(0):\n",
    "        Q = E.random_element()\n",
    "        while Q == E(0):  # make sure P is not O\n",
    "            Q = E.random_element()\n",
    "        h = (p + 1) // q  # This is to make sure P has order q.\n",
    "        P = h * Q  # Order of P is q1\n",
    "    s = ZZ.random_element(2, q - 1)  # s is private master key in Z_q*.\n",
    "    P_pub = s * P\n",
    "    params = [p, q, l, E, P, P_pub]\n",
    "    return params, s  # Everything except s is `params`/public"
   ]
  },
  {
   "cell_type": "code",
   "execution_count": 14,
   "metadata": {
    "collapsed": false
   },
   "outputs": [],
   "source": [
    "#Implementation of MapToPoint\n",
    "#(cf Algorithm 3 in Section 3.2)\n",
    "\n",
    "#A brief sketch of how this is used:\n",
    "#y0 in Fp. It is an output from hash function. Input to the first hash function is ID.\n",
    "#s is the master key\n",
    "#private key is d_ID (don't send to others)\n",
    "#MapToPoint is `Extract` in Boneh-Franklin\n",
    "#Q_ID is for people to use so they can encrypt. They can just use ID, hash it, and calculate Q_ID by themselves. One way is to make a `public` MapToPoint function that doesn't take in s, and doesn't d_ID\n",
    "#Admin does this, not the user\n",
    "#Hash y0 before inputting to MapToPoint. y0 = Hash(ID)\n",
    "#y0 is an element mod p, need to reduce mod p.\n",
    "\n",
    "def MapToPoint(y0,params, s):\n",
    "    p, q, l, E, P, P_pub = params\n",
    "    x0 = pow((y0^2) - 1, ((2*p)-1)//3, p) #`pow` is Python's built-in function that does fast power\n",
    "    print(x0)\n",
    "    print(y0)\n",
    "    Q = E([x0,y0])\n",
    "    Q_ID = l*Q #l comes from BDHGenerator. It's the integer s.t. p = lq-1\n",
    "    d_ID = s*Q_ID\n",
    "    return Q_ID,d_ID"
   ]
  },
  {
   "cell_type": "code",
   "execution_count": 15,
   "metadata": {
    "collapsed": false
   },
   "outputs": [],
   "source": [
    "###Encrypt and Decryptimplementation\n",
    "#(cf. Section 2.4 and end of Section 3.2)\n",
    "\n",
    "def Encrypt(M,Q_ID,params):\n",
    "    p, q, l, E, P, P_pub = params\n",
    "    r = ZZ.random_element(2,q-1)\n",
    "    print(\"r\", type(r), r)\n",
    "    print(\"P\", type(P), P)\n",
    "    U = r*P\n",
    "    g_ID = ModifiedWeilPairing(Q_ID,P_pub,q,E)\n",
    "    g_ID_to_r = fastPowerSmall(g_ID, r)\n",
    "    V = M.__xor__(H1(g_ID_to_r))\n",
    "    print(\"V\", type(V), V)\n",
    "    C = [U,V] #This is the ciphertext\n",
    "    return C\n",
    "\n",
    "#^^ is XOR operator in Sage\n",
    "#d_ID from MapToPoint. It's the private key (I keep it)\n",
    "\n",
    "def Decrypt(C,d_ID,params):\n",
    "    p, q, l, E, P, P_pub = params\n",
    "    U,V = C\n",
    "    weil = ModifiedWeilPairing(d_ID,U,q,E)\n",
    "    M = V.__xor__(H1(weil))\n",
    "    return M\n"
   ]
  },
  {
   "cell_type": "code",
   "execution_count": 16,
   "metadata": {
    "collapsed": false
   },
   "outputs": [],
   "source": [
    "#########################################\n",
    "#What follows is an example runthrough of the implementation in 5 steps\n",
    "#Follows the outline of a general IBE scheme (cf. Section 2.4) implemented using the modified Weil pairing\n",
    "#The user is encouraged to run the code and experiment\n",
    "#########################################"
   ]
  },
  {
   "cell_type": "code",
   "execution_count": 17,
   "metadata": {
    "collapsed": false,
    "scrolled": true
   },
   "outputs": [
    {
     "name": "stdout",
     "output_type": "stream",
     "text": [
      "13407807929942597099574024998205846127479365820592393377723561443721764030073546976801874298166903427690031858186486050853753882811946569946433649006084095\n",
      "p =  35007979873574564249714324106682761489587031386787233113368763285014597986359056041495671860376383182111778959880283423505662229386178191267334323867290146369\n",
      "q =  9973783439764833119576730514724433472816818058913741627740388400289059255372950439172556085577317145900791726461619208975972145124267290959354508224299187\n",
      "E =  Elliptic Curve defined by y^2 = x^3 + 1 over Finite Field of size 35007979873574564249714324106682761489587031386787233113368763285014597986359056041495671860376383182111778959880283423505662229386178191267334323867290146369\n",
      "P =  (34805360992635997485334297767435334672234731924533481847934001100953289734400535086078253737645648529440276083174858255254146709804729376633579353220203446161 : 12024893948381210548977832081489432752813576155800258386185779495997415471326110077848795038678815170398762420222997351876713719345211391859201761683086509673 : 1)\n",
      "s =  9698163211927696686349154596582136712362440940104176813428421983737474675192621177404849435273455292847043641300922149096202024828869024338030632423697709\n",
      "l =  3510\n",
      "P_pub =  (11274588851655178591952541904311328469803499534641806404106382718377749546547342297486110332543733613199581593197902279719167835136505630045544602727808507828 : 30026284630623686319721593628601565540711757399862579336249342163363549773095361109964444224778808137146790804204557054612353947952619508081878688150221671480 : 1)\n"
     ]
    }
   ],
   "source": [
    "#Step 1: Only need to run once\n",
    "#Boneh-Franklin Page 20 says to pick primes p that are at least 512-bit long for security purposes.\n",
    "params,s = BDHGenerator(512)\n",
    "p, q, l, E, P, P_pub = params\n",
    "print(\"p = \", p)\n",
    "print(\"q = \", q)\n",
    "print(\"E = \", E)\n",
    "print(\"P = \", P)\n",
    "print(\"s = \", s)\n",
    "print(\"l = \", l)\n",
    "print(\"P_pub = \", P_pub)"
   ]
  },
  {
   "cell_type": "code",
   "execution_count": 18,
   "metadata": {
    "collapsed": false
   },
   "outputs": [
    {
     "name": "stdout",
     "output_type": "stream",
     "text": [
      "y0 =  9284027244711476868736574711199185332133782967237044148153727596027875067278862165519633211530008452951448644427085930313537133830441524639977514866580706\n"
     ]
    }
   ],
   "source": [
    "#Step 2: Hash. Only need to run once for one ID.\n",
    "your_ID = \"user\"\n",
    "\n",
    "y0 = H1(your_ID)\n",
    "print(\"y0 = \", y0)"
   ]
  },
  {
   "cell_type": "code",
   "execution_count": 19,
   "metadata": {
    "collapsed": false
   },
   "outputs": [
    {
     "name": "stdout",
     "output_type": "stream",
     "text": [
      "10957140820579684980396929999135370903781184892251794569270427349221020023570906177823634064931083865021723294125040794606773293179089560186626562779463324137\n",
      "9284027244711476868736574711199185332133782967237044148153727596027875067278862165519633211530008452951448644427085930313537133830441524639977514866580706\n",
      "Q_ID =  (19055927573583377605736047058463810197455892587578689700850333741885254364774535880064211229659386606512160735335713993980009278432617164803419868464254824714 : 19025421094798717421800385342600311002116304107394708645383956895544762350866877772585730437138224699396988779116153713671882430127136020120649732409356013142 : 1)\n",
      "d_ID =  (6926947756944103424156036877701085525293927920769287951252490493002600957182087000876418751796977020210666519235832613932327778705297118964279977571530942108 : 6347547923112217557833884506875649897741045220518382674878550992773052260979840753317707172411051773053331943303412335388023714173135577908652506323635439985 : 1)\n"
     ]
    }
   ],
   "source": [
    "#Step 3: MapToPoint. Only need to run once.\n",
    "Q_ID,d_ID = MapToPoint(y0,params, s)\n",
    "print(\"Q_ID = \", Q_ID)\n",
    "print(\"d_ID = \", d_ID)"
   ]
  },
  {
   "cell_type": "code",
   "execution_count": 20,
   "metadata": {
    "collapsed": false
   },
   "outputs": [
    {
     "name": "stdout",
     "output_type": "stream",
     "text": [
      "r <class 'sage.rings.integer.Integer'> 709484080632605826050256449452033585767533672370136590367476970474101770695035947860655755454920387513127738427290095700962705290915187970972380843385614\n",
      "P <class 'sage.schemes.elliptic_curves.ell_point.EllipticCurvePoint_finite_field'> (34805360992635997485334297767435334672234731924533481847934001100953289734400535086078253737645648529440276083174858255254146709804729376633579353220203446161 : 12024893948381210548977832081489432752813576155800258386185779495997415471326110077848795038678815170398762420222997351876713719345211391859201761683086509673 : 1)\n",
      "f:<class 'sage.rings.finite_rings.element_pari_ffelt.FiniteFieldElement_pari_ffelt'>\n",
      "f:<class 'sage.rings.finite_rings.element_pari_ffelt.FiniteFieldElement_pari_ffelt'>\n",
      "f:<class 'sage.rings.finite_rings.element_pari_ffelt.FiniteFieldElement_pari_ffelt'>\n",
      "f:<class 'sage.rings.finite_rings.element_pari_ffelt.FiniteFieldElement_pari_ffelt'>\n",
      "<class 'sage.rings.finite_rings.element_pari_ffelt.FiniteFieldElement_pari_ffelt'>\n",
      "V <class 'sage.rings.integer.Integer'> 4121973338668927216921398332666440181127379788612403712564878612142564737366988600399430949881342820907409068163052120402948760040368411429316416579793696\n",
      "M =  760504891437990307144\n",
      "U =  (29319698473328783491581024285605467459039516982824810719403686520576641124646360028849380907393818896184026453772171892995132907448270781141018146079618350187 : 13847974992908137821425660052268307279124469313627581105734063753502505165041675562603231309989975356073307655075214694585196646146698802686075598324866383737 : 1)\n",
      "V =  4121973338668927216921398332666440181127379788612403712564878612142564737366988600399430949881342820907409068163052120402948760040368411429316416579793696\n"
     ]
    }
   ],
   "source": [
    "#Step 4: Encrypt\n",
    "input_message = \"Hello! :)\"\n",
    "\n",
    "M = textToInt(input_message)\n",
    "C = Encrypt(M,Q_ID,params)\n",
    "U,V = C\n",
    "print(\"M = \", M)\n",
    "print(\"U = \", U)\n",
    "print(\"V = \", V)"
   ]
  },
  {
   "cell_type": "code",
   "execution_count": 21,
   "metadata": {},
   "outputs": [
    {
     "data": {
      "text/plain": [
       "(29319698473328783491581024285605467459039516982824810719403686520576641124646360028849380907393818896184026453772171892995132907448270781141018146079618350187,\n",
       " 13847974992908137821425660052268307279124469313627581105734063753502505165041675562603231309989975356073307655075214694585196646146698802686075598324866383737)"
      ]
     },
     "execution_count": 21,
     "metadata": {},
     "output_type": "execute_result"
    }
   ],
   "source": [
    "Ub: EllipticCurvePoint_finite_field = U\n",
    "Ub.xy()"
   ]
  },
  {
   "cell_type": "code",
   "execution_count": 29,
   "metadata": {},
   "outputs": [
    {
     "data": {
      "text/plain": [
       "(29319698473328783491581024285605467459039516982824810719403686520576641124646360028849380907393818896184026453772171892995132907448270781141018146079618350187 : 13847974992908137821425660052268307279124469313627581105734063753502505165041675562603231309989975356073307655075214694585196646146698802686075598324866383737 : 1)"
      ]
     },
     "execution_count": 29,
     "metadata": {},
     "output_type": "execute_result"
    }
   ],
   "source": [
    "EllipticCurvePoint_finite_field(E, (int(str(Ub.x())), int(str(Ub.y()))))"
   ]
  },
  {
   "cell_type": "code",
   "execution_count": null,
   "metadata": {},
   "outputs": [
    {
     "data": {
      "text/plain": [
       "29319698473328783491581024285605467459039516982824810719403686520576641124646360028849380907393818896184026453772171892995132907448270781141018146079618350187"
      ]
     },
     "execution_count": 28,
     "metadata": {},
     "output_type": "execute_result"
    }
   ],
   "source": [
    "int(str(Ub.x()))"
   ]
  },
  {
   "cell_type": "code",
   "execution_count": 24,
   "metadata": {},
   "outputs": [
    {
     "data": {
      "text/plain": [
       "Elliptic Curve defined by y^2 = x^3 + 1 over Finite Field of size 35007979873574564249714324106682761489587031386787233113368763285014597986359056041495671860376383182111778959880283423505662229386178191267334323867290146369"
      ]
     },
     "execution_count": 24,
     "metadata": {},
     "output_type": "execute_result"
    }
   ],
   "source": [
    "E"
   ]
  },
  {
   "cell_type": "code",
   "execution_count": 25,
   "metadata": {},
   "outputs": [
    {
     "data": {
      "text/plain": [
       "Elliptic Curve defined by y^2 = x^3 + 1 over Finite Field of size 35007979873574564249714324106682761489587031386787233113368763285014597986359056041495671860376383182111778959880283423505662229386178191267334323867290146369"
      ]
     },
     "execution_count": 25,
     "metadata": {},
     "output_type": "execute_result"
    }
   ],
   "source": [
    "Ub.curve()"
   ]
  },
  {
   "cell_type": "code",
   "execution_count": 26,
   "metadata": {},
   "outputs": [
    {
     "data": {
      "text/plain": [
       "(29319698473328783491581024285605467459039516982824810719403686520576641124646360028849380907393818896184026453772171892995132907448270781141018146079618350187 : 13847974992908137821425660052268307279124469313627581105734063753502505165041675562603231309989975356073307655075214694585196646146698802686075598324866383737 : 1)"
      ]
     },
     "execution_count": 26,
     "metadata": {},
     "output_type": "execute_result"
    }
   ],
   "source": [
    "U"
   ]
  },
  {
   "cell_type": "code",
   "execution_count": 27,
   "metadata": {},
   "outputs": [
    {
     "ename": "TypeError",
     "evalue": "EllipticCurvePoint_field.__init__() missing 2 required positional arguments: 'curve' and 'v'",
     "output_type": "error",
     "traceback": [
      "\u001b[0;31m---------------------------------------------------------------------------\u001b[0m",
      "\u001b[0;31mTypeError\u001b[0m                                 Traceback (most recent call last)",
      "Cell \u001b[0;32mIn[27], line 1\u001b[0m\n\u001b[0;32m----> 1\u001b[0m \u001b[43mEllipticCurvePoint_finite_field\u001b[49m\u001b[43m(\u001b[49m\u001b[43m)\u001b[49m\n",
      "\u001b[0;31mTypeError\u001b[0m: EllipticCurvePoint_field.__init__() missing 2 required positional arguments: 'curve' and 'v'"
     ]
    }
   ],
   "source": [
    "EllipticCurvePoint_finite_field()"
   ]
  },
  {
   "cell_type": "code",
   "execution_count": null,
   "metadata": {},
   "outputs": [
    {
     "data": {
      "text/plain": [
       "<class 'sage.rings.finite_rings.integer_mod.IntegerMod_gmp'>"
      ]
     },
     "execution_count": 66,
     "metadata": {},
     "output_type": "execute_result"
    }
   ],
   "source": [
    "type(U[0])"
   ]
  },
  {
   "cell_type": "code",
   "execution_count": null,
   "metadata": {},
   "outputs": [
    {
     "data": {
      "text/plain": [
       "<class 'sage.rings.integer.Integer'>"
      ]
     },
     "execution_count": 21,
     "metadata": {},
     "output_type": "execute_result"
    }
   ],
   "source": [
    "type(V)"
   ]
  },
  {
   "cell_type": "code",
   "execution_count": null,
   "metadata": {
    "collapsed": false
   },
   "outputs": [
    {
     "name": "stdout",
     "output_type": "stream",
     "text": [
      "f:<class 'sage.rings.finite_rings.element_pari_ffelt.FiniteFieldElement_pari_ffelt'>\n",
      "f:<class 'sage.rings.finite_rings.element_pari_ffelt.FiniteFieldElement_pari_ffelt'>\n",
      "f:<class 'sage.rings.finite_rings.element_pari_ffelt.FiniteFieldElement_pari_ffelt'>\n",
      "f:<class 'sage.rings.finite_rings.element_pari_ffelt.FiniteFieldElement_pari_ffelt'>\n",
      "<class 'sage.rings.finite_rings.element_pari_ffelt.FiniteFieldElement_pari_ffelt'>\n",
      "M0 =  760504891437990307144\n",
      "messsage =  Hello! :)\n"
     ]
    }
   ],
   "source": [
    "#Step 5: Decrypt\n",
    "M0 = Decrypt(C,d_ID,params)\n",
    "output_message = intToText(M0)\n",
    "print(\"M0 = \", M0)\n",
    "print(\"messsage = \", output_message)"
   ]
  },
  {
   "cell_type": "code",
   "execution_count": null,
   "metadata": {},
   "outputs": [
    {
     "data": {
      "text/plain": [
       "<class 'sage.rings.integer.Integer'>"
      ]
     },
     "execution_count": 23,
     "metadata": {},
     "output_type": "execute_result"
    }
   ],
   "source": [
    "type(p)"
   ]
  },
  {
   "cell_type": "code",
   "execution_count": null,
   "metadata": {
    "collapsed": false
   },
   "outputs": [],
   "source": [
    "################\n",
    "#Open Cell for the user to test and experiment with any and all functions above\n",
    "################"
   ]
  },
  {
   "cell_type": "code",
   "execution_count": null,
   "metadata": {},
   "outputs": [
    {
     "data": {
      "text/plain": [
       "<class 'sage.schemes.elliptic_curves.ell_finite_field.EllipticCurve_finite_field_with_category'>"
      ]
     },
     "execution_count": 25,
     "metadata": {},
     "output_type": "execute_result"
    }
   ],
   "source": [
    "type(E)"
   ]
  }
 ],
 "metadata": {
  "kernelspec": {
   "display_name": "SageMath 10.4",
   "language": "sage",
   "name": "sagemath"
  },
  "language_info": {
   "codemirror_mode": {
    "name": "ipython",
    "version": 3
   },
   "file_extension": ".py",
   "mimetype": "text/x-python",
   "name": "python",
   "nbconvert_exporter": "python",
   "pygments_lexer": "ipython3",
   "version": "3.12.7"
  }
 },
 "nbformat": 4,
 "nbformat_minor": 4
}
